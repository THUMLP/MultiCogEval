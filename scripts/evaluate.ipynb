{
 "cells": [
  {
   "cell_type": "markdown",
   "id": "6b984ed3",
   "metadata": {},
   "source": [
    "# Metric Calculation"
   ]
  },
  {
   "cell_type": "markdown",
   "id": "de47cd0e",
   "metadata": {},
   "source": [
    "## 1. Low-Level"
   ]
  },
  {
   "cell_type": "code",
   "execution_count": null,
   "id": "51ab120c",
   "metadata": {},
   "outputs": [],
   "source": [
    "from tools.MCQ_tool import get_MCQ_results\n",
    "def normalized_acc(acc,dataset,index):\n",
    "    if dataset == 'medqa':\n",
    "        random_acc = [0.2,0.5,0.5,0.2]\n",
    "    else:\n",
    "        random_acc = [0.25,0.5,0.5,0.25]\n",
    "    norm_acc = (acc - random_acc[index])/(1-random_acc[index])\n",
    "    return norm_acc\n",
    "\n",
    "def normalized_SE(SE,dataset,index):\n",
    "    if dataset == 'medqa':\n",
    "        random_acc = [0.2,0.5,0.5,0.2]\n",
    "    else:\n",
    "        random_acc = [0.25,0.5,0.5,0.25]\n",
    "    norm_SE = SE/(1-random_acc[index])\n",
    "    return norm_SE\n",
    "\n",
    "model_name = \"llama3-8B\"\n",
    "dataset_name = \"medqa\" # medqa or medmcqa\n",
    "digit = 5 # number of repeated runs\n",
    "mcq_acc, mcq_SE, mcq_acc_list = get_MCQ_results(dataset_name, model_name, digit)\n",
    "norm_mcq_acc, norm_mcq_SE = normalized_acc(mcq_acc, dataset_name, 0), normalized_SE(mcq_SE, dataset_name, 0)\n",
    "print(f\"Model: {model_name}, Dataset: {dataset_name}, Accuracy: {norm_mcq_acc*100:.2f}% ± {norm_mcq_SE*100:.2f}%\")"
   ]
  },
  {
   "cell_type": "markdown",
   "id": "9df226c5",
   "metadata": {},
   "source": [
    "## 2. Mid-Level"
   ]
  },
  {
   "cell_type": "code",
   "execution_count": null,
   "id": "ee669b2c",
   "metadata": {},
   "outputs": [],
   "source": [
    "from tools.AE_tool import get_AE_results\n",
    "from tools.SV_tool import get_SV_results\n",
    "from tools.MR_tool import get_MR_results\n",
    "model_name = \"llama3-8B\"\n",
    "dataset_name = \"medqa\" # medqa or medmcqa\n",
    "digit = 5 # number of repeated runs\n",
    "ae_acc, ae_SE, ae_acc_list = get_AE_results(dataset_name, model_name, digit)\n",
    "sv_acc, sv_SE, sv_acc_list = get_SV_results(dataset_name, model_name, digit)\n",
    "mr_acc, mr_SE, mr_acc_list = get_MR_results(dataset_name, model_name, digit)\n",
    "\n",
    "norm_sv_acc, norm_sv_SE = normalized_acc(sv_acc, dataset_name, 1), normalized_SE(sv_SE, dataset_name, 1)\n",
    "norm_ae_acc, norm_ae_SE = normalized_acc(ae_acc, dataset_name, 2), normalized_SE(ae_SE, dataset_name, 2)\n",
    "norm_mr_acc, norm_mr_SE = normalized_acc(mr_acc, dataset_name, 3), normalized_SE(mr_SE, dataset_name, 3)\n",
    "print(f\"Model: {model_name}, Dataset: {dataset_name}, AE Accuracy: {norm_ae_acc*100:.2f}% ± {norm_ae_SE*100:.2f}%\")\n",
    "print(f\"Model: {model_name}, Dataset: {dataset_name}, SV Accuracy: {norm_sv_acc*100:.2f}% ± {norm_sv_SE*100:.2f}%\")\n",
    "print(f\"Model: {model_name}, Dataset: {dataset_name}, MR Accuracy: {norm_mr_acc*100:.2f}% ± {norm_mr_SE*100:.2f}%\")"
   ]
  },
  {
   "cell_type": "markdown",
   "id": "edd106d6",
   "metadata": {},
   "source": [
    "## High-Level"
   ]
  },
  {
   "cell_type": "code",
   "execution_count": null,
   "id": "60ecb856",
   "metadata": {},
   "outputs": [],
   "source": [
    "from tools.high_level_tools import get_diagnosis_results\n",
    "import pandas as pd\n",
    "model_name = \"llama3-8B-it\"\n",
    "digit = 1 # number of repeated runs\n",
    "        \n",
    "tmp_results = get_diagnosis_results(model_name)\n",
    "expr_times = tmp_results[8]\n",
    "if pd.isna(tmp_results[3]):\n",
    "    tmp = '-'\n",
    "    tmp_num = '-'\n",
    "else:\n",
    "    tmp = \"{:.2f}±{:.2f}\".format(tmp_results[3]*100,tmp_results[7]*100)\n",
    "print(f\"Model: {model_name}, Diagnosis Accuracy: {tmp}%\")\n"
   ]
  }
 ],
 "metadata": {
  "kernelspec": {
   "display_name": "llm_new_2",
   "language": "python",
   "name": "python3"
  },
  "language_info": {
   "codemirror_mode": {
    "name": "ipython",
    "version": 3
   },
   "file_extension": ".py",
   "mimetype": "text/x-python",
   "name": "python",
   "nbconvert_exporter": "python",
   "pygments_lexer": "ipython3",
   "version": "3.10.15"
  }
 },
 "nbformat": 4,
 "nbformat_minor": 5
}
